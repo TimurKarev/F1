{
 "cells": [
  {
   "cell_type": "code",
   "execution_count": 413,
   "metadata": {},
   "outputs": [],
   "source": [
    "import numpy as np\n",
    "d = np.zeros((100), dtype=int)\n",
    "r = np.zeros((0,10), dtype=int)"
   ]
  },
  {
   "cell_type": "code",
   "execution_count": 414,
   "metadata": {},
   "outputs": [],
   "source": [
    "number = 42"
   ]
  },
  {
   "cell_type": "code",
   "execution_count": 415,
   "metadata": {},
   "outputs": [],
   "source": [
    "def isValid(ar):\n",
    "    global r\n",
    "    global number\n",
    "    if(np.sum(ar) != number):\n",
    "        return\n",
    "    for j in ar:\n",
    "        if(j==5 or j==9 or j>10):\n",
    "            return\n",
    "    r = np.vstack((r,ar))"
   ]
  },
  {
   "cell_type": "code",
   "execution_count": 416,
   "metadata": {},
   "outputs": [],
   "source": [
    "def dec(n, k, i):\n",
    "    if(n < 0 ):\n",
    "         return\n",
    "\n",
    "    if(n==0):\n",
    "        global d\n",
    "        isValid(d[:10])\n",
    "        #print(d[:10])\n",
    "        #print(np.sum(d))\n",
    "        #d = np.zeros(100, dtype=int)\n",
    "    else:\n",
    "        if(n-k >= 0):\n",
    "            d[i] = k\n",
    "            dec(n-k,k,i+1)\n",
    "        if(k-1 > 0):\n",
    "            d[i+1:] = np.zeros(100)[i+1:]\n",
    "            dec(n,k-1,i)\n",
    "            \n",
    "\n",
    "    return"
   ]
  },
  {
   "cell_type": "code",
   "execution_count": 417,
   "metadata": {
    "tags": []
   },
   "outputs": [
    {
     "output_type": "execute_result",
     "data": {
      "text/plain": "array([[10, 10, 10, ...,  0,  0,  0],\n       [10, 10, 10, ...,  0,  0,  0],\n       [10, 10, 10, ...,  0,  0,  0],\n       ...,\n       [ 6,  6,  4, ...,  4,  4,  2],\n       [ 6,  6,  4, ...,  4,  3,  3],\n       [ 6,  4,  4, ...,  4,  4,  4]])"
     },
     "metadata": {},
     "execution_count": 417
    }
   ],
   "source": [
    "dec(number,number,0)\n",
    "r"
   ]
  },
  {
   "cell_type": "code",
   "execution_count": 418,
   "metadata": {},
   "outputs": [
    {
     "output_type": "execute_result",
     "data": {
      "text/plain": "(1208, 10)"
     },
     "metadata": {},
     "execution_count": 418
    }
   ],
   "source": [
    "r.shape"
   ]
  },
  {
   "cell_type": "code",
   "execution_count": 419,
   "metadata": {},
   "outputs": [
    {
     "output_type": "execute_result",
     "data": {
      "text/plain": "1208"
     },
     "metadata": {},
     "execution_count": 419
    }
   ],
   "source": [
    "np.sum(np.sum(r,1)==number)"
   ]
  },
  {
   "cell_type": "code",
   "execution_count": 420,
   "metadata": {},
   "outputs": [
    {
     "output_type": "execute_result",
     "data": {
      "text/plain": "array([[10, 10, 10, 10,  2,  0,  0,  0,  0,  0],\n       [10, 10, 10, 10,  1,  1,  0,  0,  0,  0],\n       [10, 10, 10,  8,  4,  0,  0,  0,  0,  0],\n       [10, 10, 10,  8,  3,  1,  0,  0,  0,  0],\n       [10, 10, 10,  8,  2,  2,  0,  0,  0,  0],\n       [10, 10, 10,  8,  2,  1,  1,  0,  0,  0],\n       [10, 10, 10,  8,  1,  1,  1,  1,  0,  0],\n       [10, 10, 10,  7,  4,  1,  0,  0,  0,  0],\n       [10, 10, 10,  7,  3,  2,  0,  0,  0,  0],\n       [10, 10, 10,  7,  3,  1,  1,  0,  0,  0],\n       [10, 10, 10,  7,  2,  2,  1,  0,  0,  0],\n       [10, 10, 10,  7,  2,  1,  1,  1,  0,  0],\n       [10, 10, 10,  7,  1,  1,  1,  1,  1,  0],\n       [10, 10, 10,  6,  6,  0,  0,  0,  0,  0],\n       [10, 10, 10,  6,  4,  2,  0,  0,  0,  0]])"
     },
     "metadata": {},
     "execution_count": 420
    }
   ],
   "source": [
    "r[:15]"
   ]
  },
  {
   "cell_type": "code",
   "execution_count": 421,
   "metadata": {},
   "outputs": [],
   "source": [
    "import pandas as pd"
   ]
  },
  {
   "cell_type": "code",
   "execution_count": 426,
   "metadata": {},
   "outputs": [],
   "source": [
    "df = pd.DataFrame (r).astype(int)"
   ]
  },
  {
   "cell_type": "code",
   "execution_count": 424,
   "metadata": {},
   "outputs": [],
   "source": [
    "import openpyxl"
   ]
  },
  {
   "cell_type": "code",
   "execution_count": 428,
   "metadata": {},
   "outputs": [],
   "source": [
    "filepath = 'my_excel_file.xlsx'\n",
    "\n",
    "df.to_excel(filepath, index=False)"
   ]
  },
  {
   "cell_type": "code",
   "execution_count": null,
   "metadata": {},
   "outputs": [],
   "source": []
  }
 ],
 "metadata": {
  "language_info": {
   "codemirror_mode": {
    "name": "ipython",
    "version": 3
   },
   "file_extension": ".py",
   "mimetype": "text/x-python",
   "name": "python",
   "nbconvert_exporter": "python",
   "pygments_lexer": "ipython3",
   "version": "3.8.3-final"
  },
  "orig_nbformat": 2,
  "kernelspec": {
   "name": "python3",
   "display_name": "Python 3"
  }
 },
 "nbformat": 4,
 "nbformat_minor": 2
}